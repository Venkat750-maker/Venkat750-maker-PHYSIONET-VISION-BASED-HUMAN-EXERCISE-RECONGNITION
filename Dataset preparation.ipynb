{
 "cells": [
  {
   "cell_type": "code",
   "execution_count": 2,
   "id": "798a1298",
   "metadata": {},
   "outputs": [],
   "source": [
    "import cv2\n",
    "import os\n",
    "video_dataset_path = \"input_videos\"\n",
    "\n",
    "\n",
    "frame_output_path = \"output_frames\"\n",
    "\n",
    "\n",
    "os.makedirs(frame_output_path, exist_ok=True)\n",
    "\n",
    "def extract_frames_from_videos(video_dir, output_dir):\n",
    "    video_files = [f for f in os.listdir(video_dir) if f.endswith(\".mp4\")]\n",
    "\n",
    "    for video_file in video_files:\n",
    "        video_path = os.path.join(video_dir, video_file)\n",
    "\n",
    "        video_frame_dir = os.path.join(output_dir, video_file[:-4])\n",
    "        os.makedirs(video_frame_dir, exist_ok=True)\n",
    "        cap = cv2.VideoCapture(video_path)\n",
    "        frame_count = 0\n",
    "\n",
    "        while cap.isOpened():\n",
    "            ret, frame = cap.read()\n",
    "            if not ret:\n",
    "                break\n",
    "            frame_filename = os.path.join(video_frame_dir, f\"frame_{frame_count:04d}.jpg\")\n",
    "            cv2.imwrite(frame_filename, frame)\n",
    "\n",
    "            frame_count += 1\n",
    "\n",
    "        cap.release()\n",
    "\n",
    "\n",
    "extract_frames_from_videos(video_dataset_path, frame_output_path)\n"
   ]
  },
  {
   "cell_type": "code",
   "execution_count": null,
   "id": "ff013945",
   "metadata": {},
   "outputs": [],
   "source": []
  }
 ],
 "metadata": {
  "kernelspec": {
   "display_name": "Python 3 (ipykernel)",
   "language": "python",
   "name": "python3"
  },
  "language_info": {
   "codemirror_mode": {
    "name": "ipython",
    "version": 3
   },
   "file_extension": ".py",
   "mimetype": "text/x-python",
   "name": "python",
   "nbconvert_exporter": "python",
   "pygments_lexer": "ipython3",
   "version": "3.9.7"
  }
 },
 "nbformat": 4,
 "nbformat_minor": 5
}
